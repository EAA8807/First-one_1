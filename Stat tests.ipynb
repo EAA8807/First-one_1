{
 "cells": [
  {
   "cell_type": "markdown",
   "metadata": {},
   "source": [
    "ИССЛЕДОВАНИЕ ДАННЫХ HR-АГЕНТСТВА\n",
    "\n",
    "HR-агентство изучает тренды на рынке труда в IT. Компания хочет провести исследование на основе данных о зарплатах в сфере Data Science за 2020–2022 годы и получить некоторые выводы."
   ]
  },
  {
   "cell_type": "code",
   "execution_count": 680,
   "metadata": {},
   "outputs": [],
   "source": [
    "import pandas as pd \n",
    "import seaborn as sns\n",
    "import numpy as np\n",
    "import matplotlib.pyplot as plt\n",
    "\n",
    "import scipy.stats as stats\n",
    "\n",
    "# для всех статистических тестов зададим уровень значимости альфа = 0.05 "
   ]
  },
  {
   "cell_type": "code",
   "execution_count": 681,
   "metadata": {},
   "outputs": [],
   "source": [
    "data=pd.read_csv('data\\ds_salaries.csv', index_col='Unnamed: 0')"
   ]
  },
  {
   "cell_type": "markdown",
   "metadata": {},
   "source": [
    "1. ОЧИСТКА ДАННЫХ"
   ]
  },
  {
   "cell_type": "code",
   "execution_count": 682,
   "metadata": {},
   "outputs": [
    {
     "name": "stdout",
     "output_type": "stream",
     "text": [
      "<class 'pandas.core.frame.DataFrame'>\n",
      "Int64Index: 565 entries, 0 to 606\n",
      "Data columns (total 11 columns):\n",
      " #   Column              Non-Null Count  Dtype \n",
      "---  ------              --------------  ----- \n",
      " 0   work_year           565 non-null    int64 \n",
      " 1   experience_level    565 non-null    object\n",
      " 2   employment_type     565 non-null    object\n",
      " 3   job_title           565 non-null    object\n",
      " 4   salary              565 non-null    int64 \n",
      " 5   salary_currency     565 non-null    object\n",
      " 6   salary_in_usd       565 non-null    int64 \n",
      " 7   employee_residence  565 non-null    object\n",
      " 8   remote_ratio        565 non-null    int64 \n",
      " 9   company_location    565 non-null    object\n",
      " 10  company_size        565 non-null    object\n",
      "dtypes: int64(4), object(7)\n",
      "memory usage: 53.0+ KB\n"
     ]
    }
   ],
   "source": [
    "data.duplicated().value_counts()  # 42\n",
    "data.drop_duplicates(inplace=True)\n",
    "data.info() # пропуски отсутствуют, формат верный"
   ]
  },
  {
   "cell_type": "code",
   "execution_count": 683,
   "metadata": {},
   "outputs": [
    {
     "data": {
      "text/html": [
       "<div>\n",
       "<style scoped>\n",
       "    .dataframe tbody tr th:only-of-type {\n",
       "        vertical-align: middle;\n",
       "    }\n",
       "\n",
       "    .dataframe tbody tr th {\n",
       "        vertical-align: top;\n",
       "    }\n",
       "\n",
       "    .dataframe thead th {\n",
       "        text-align: right;\n",
       "    }\n",
       "</style>\n",
       "<table border=\"1\" class=\"dataframe\">\n",
       "  <thead>\n",
       "    <tr style=\"text-align: right;\">\n",
       "      <th></th>\n",
       "      <th>work_year</th>\n",
       "      <th>experience_level</th>\n",
       "      <th>employment_type</th>\n",
       "      <th>job_title</th>\n",
       "      <th>salary</th>\n",
       "      <th>salary_currency</th>\n",
       "      <th>salary_in_usd</th>\n",
       "      <th>employee_residence</th>\n",
       "      <th>remote_ratio</th>\n",
       "      <th>company_location</th>\n",
       "      <th>company_size</th>\n",
       "    </tr>\n",
       "  </thead>\n",
       "  <tbody>\n",
       "    <tr>\n",
       "      <th>0</th>\n",
       "      <td>2020</td>\n",
       "      <td>MI</td>\n",
       "      <td>FT</td>\n",
       "      <td>Data Scientist</td>\n",
       "      <td>70000</td>\n",
       "      <td>EUR</td>\n",
       "      <td>79833</td>\n",
       "      <td>DE</td>\n",
       "      <td>0</td>\n",
       "      <td>DE</td>\n",
       "      <td>L</td>\n",
       "    </tr>\n",
       "    <tr>\n",
       "      <th>1</th>\n",
       "      <td>2020</td>\n",
       "      <td>SE</td>\n",
       "      <td>FT</td>\n",
       "      <td>Machine Learning Scientist</td>\n",
       "      <td>260000</td>\n",
       "      <td>USD</td>\n",
       "      <td>260000</td>\n",
       "      <td>JP</td>\n",
       "      <td>0</td>\n",
       "      <td>JP</td>\n",
       "      <td>S</td>\n",
       "    </tr>\n",
       "    <tr>\n",
       "      <th>2</th>\n",
       "      <td>2020</td>\n",
       "      <td>SE</td>\n",
       "      <td>FT</td>\n",
       "      <td>Big Data Engineer</td>\n",
       "      <td>85000</td>\n",
       "      <td>GBP</td>\n",
       "      <td>109024</td>\n",
       "      <td>GB</td>\n",
       "      <td>50</td>\n",
       "      <td>GB</td>\n",
       "      <td>M</td>\n",
       "    </tr>\n",
       "  </tbody>\n",
       "</table>\n",
       "</div>"
      ],
      "text/plain": [
       "   work_year experience_level employment_type                   job_title  \\\n",
       "0       2020               MI              FT              Data Scientist   \n",
       "1       2020               SE              FT  Machine Learning Scientist   \n",
       "2       2020               SE              FT           Big Data Engineer   \n",
       "\n",
       "   salary salary_currency  salary_in_usd employee_residence  remote_ratio  \\\n",
       "0   70000             EUR          79833                 DE             0   \n",
       "1  260000             USD         260000                 JP             0   \n",
       "2   85000             GBP         109024                 GB            50   \n",
       "\n",
       "  company_location company_size  \n",
       "0               DE            L  \n",
       "1               JP            S  \n",
       "2               GB            M  "
      ]
     },
     "execution_count": 683,
     "metadata": {},
     "output_type": "execute_result"
    }
   ],
   "source": [
    "data.head(3)"
   ]
  },
  {
   "cell_type": "markdown",
   "metadata": {},
   "source": [
    "1.1 Целевые признаки"
   ]
  },
  {
   "cell_type": "code",
   "execution_count": 684,
   "metadata": {},
   "outputs": [],
   "source": [
    "data['job_title'].value_counts()\n",
    "\n",
    "# представлено достаточно большое количество разных названий рабочей роли\n",
    "# в настоящем проекте целевыми ролями являются Data Scientist и Data Engineer (их большинство), таким образом, иные рабочие роли нам не пригодятся\n",
    "\n",
    "# стоит отметить, что есть рабочие роли типа: Data Science Engineer, Big Data Engineer и т.д., которые можно отнести к Data Scientist и Data Engineer\n",
    "# иначе говоря, при должном воображении, каждую из представленных рабочих ролей можно отнести к целевым \n",
    "# мы остановимся исключительно на дословных описаниях рабочих ролей\n",
    "\n",
    "data=data[(data['job_title']=='Data Scientist')|(data['job_title']=='Data Engineer')]"
   ]
  },
  {
   "cell_type": "markdown",
   "metadata": {},
   "source": [
    "1.2 Страны"
   ]
  },
  {
   "cell_type": "code",
   "execution_count": 685,
   "metadata": {},
   "outputs": [],
   "source": [
    "# посмотрим на совпадение страны сотрудника и работодателя\n",
    "data['country_coincidence']=data['employee_residence']==data['company_location']\n",
    "data['country_coincidence'].value_counts() # различия в 18 случаях из 251 (можно было признак и не создавать)\n",
    "\n",
    "# удалим строки с различающимися странами ввиду их малого количества\n",
    "data=data[data['country_coincidence']==True]\n",
    "\n",
    "# посмотрим на страны вообще\n",
    "data['employee_residence'].value_counts() \n",
    "data['company_location'].value_counts()\n",
    "# большое количество разных стран проживания сотрудников и стран работодателя, где преобладает US\n",
    "\n",
    "# т.к. теперь страны у нас совпадают, оставим один из признаков employee_residence и company_location\n",
    "data.drop(columns=['employee_residence','country_coincidence'], inplace=True) \n",
    "data.rename(columns={'company_location':'country'}, inplace=True)\n",
    "\n",
    "# также поделим названия стран на US и other\n",
    "def country_code(arg):\n",
    "    if ('US' in arg):\n",
    "        return 'US'\n",
    "    else:\n",
    "        return 'other'\n",
    "\n",
    "data['country']=data['country'].apply(country_code)"
   ]
  },
  {
   "cell_type": "markdown",
   "metadata": {},
   "source": [
    "1.3 Заработная плата"
   ]
  },
  {
   "cell_type": "code",
   "execution_count": 686,
   "metadata": {},
   "outputs": [],
   "source": [
    "# признаки salary, salary_currency, salary_in_usd напрямую связаны (не проверял, принимаю на веру)\n",
    "# оставим признак salary_in_usd\n",
    "\n",
    "data.drop(columns=['salary_currency','salary'], inplace=True) "
   ]
  },
  {
   "cell_type": "code",
   "execution_count": 687,
   "metadata": {},
   "outputs": [
    {
     "data": {
      "text/plain": [
       "Text(0.5, 1.0, 'Распределение зарплат у DS и DE')"
      ]
     },
     "execution_count": 687,
     "metadata": {},
     "output_type": "execute_result"
    },
    {
     "data": {
      "image/png": "[encoded data removed]",
      "text/plain": [
       "<Figure size 432x288 with 1 Axes>"
      ]
     },
     "metadata": {},
     "output_type": "display_data"
    }
   ],
   "source": [
    "# оценим наличие выбросов с помощью коробчатой диаграммы, заодно сможем увидеть медианную зарплату на всем множестве \n",
    "\n",
    "fig1 = sns.boxplot(y=data['job_title'], x=data['salary_in_usd'], orient='h')\n",
    "fig1.set_title('Распределение зарплат у DS и DE')"
   ]
  },
  {
   "cell_type": "code",
   "execution_count": 688,
   "metadata": {},
   "outputs": [],
   "source": [
    "data=data[data['salary_in_usd']<300000] # избавимся от двух значений зарплаты, которые резко выделяются на фоне остальных"
   ]
  },
  {
   "cell_type": "markdown",
   "metadata": {},
   "source": [
    "1.4 Остальные признаки"
   ]
  },
  {
   "cell_type": "code",
   "execution_count": 689,
   "metadata": {},
   "outputs": [],
   "source": [
    "# Принцип отбора заключается в оценке количества каждой вариации признака на фоне его разнообразия... "
   ]
  },
  {
   "cell_type": "code",
   "execution_count": 690,
   "metadata": {},
   "outputs": [
    {
     "data": {
      "text/plain": [
       "2022    138\n",
       "2021     67\n",
       "2020     26\n",
       "Name: work_year, dtype: int64"
      ]
     },
     "execution_count": 690,
     "metadata": {},
     "output_type": "execute_result"
    }
   ],
   "source": [
    "data['work_year'].value_counts() # все оставляем "
   ]
  },
  {
   "cell_type": "code",
   "execution_count": 691,
   "metadata": {},
   "outputs": [
    {
     "data": {
      "text/plain": [
       "SE    99\n",
       "MI    98\n",
       "EN    31\n",
       "EX     3\n",
       "Name: experience_level, dtype: int64"
      ]
     },
     "execution_count": 691,
     "metadata": {},
     "output_type": "execute_result"
    }
   ],
   "source": [
    "data['experience_level'].value_counts() # EX удаляем  "
   ]
  },
  {
   "cell_type": "code",
   "execution_count": 692,
   "metadata": {},
   "outputs": [
    {
     "data": {
      "text/plain": [
       "FT    227\n",
       "PT      4\n",
       "Name: employment_type, dtype: int64"
      ]
     },
     "execution_count": 692,
     "metadata": {},
     "output_type": "execute_result"
    }
   ],
   "source": [
    "data['employment_type'].value_counts() # PT удаляем"
   ]
  },
  {
   "cell_type": "code",
   "execution_count": 693,
   "metadata": {},
   "outputs": [
    {
     "data": {
      "text/plain": [
       "100    136\n",
       "0       63\n",
       "50      32\n",
       "Name: remote_ratio, dtype: int64"
      ]
     },
     "execution_count": 693,
     "metadata": {},
     "output_type": "execute_result"
    }
   ],
   "source": [
    "data['remote_ratio'].value_counts() # все оставляем "
   ]
  },
  {
   "cell_type": "code",
   "execution_count": 694,
   "metadata": {},
   "outputs": [
    {
     "data": {
      "text/plain": [
       "M    140\n",
       "L     71\n",
       "S     20\n",
       "Name: company_size, dtype: int64"
      ]
     },
     "execution_count": 694,
     "metadata": {},
     "output_type": "execute_result"
    }
   ],
   "source": [
    "data['company_size'].value_counts() # все оставляем "
   ]
  },
  {
   "cell_type": "code",
   "execution_count": 695,
   "metadata": {},
   "outputs": [],
   "source": [
    "data=data[(data['experience_level']!='EX')&(data['employment_type']!='PT')] # удаляем"
   ]
  },
  {
   "cell_type": "code",
   "execution_count": 696,
   "metadata": {},
   "outputs": [],
   "source": [
    "# очистка данных так далеко зашла, что признак employment_type стал похож на тождество\n",
    "data.drop(columns='employment_type', inplace=True)"
   ]
  },
  {
   "cell_type": "markdown",
   "metadata": {},
   "source": [
    "2. Первичная визуализация признаков (на всякий случай)"
   ]
  },
  {
   "cell_type": "code",
   "execution_count": 697,
   "metadata": {},
   "outputs": [
    {
     "data": {
      "text/html": [
       "<div>\n",
       "<style scoped>\n",
       "    .dataframe tbody tr th:only-of-type {\n",
       "        vertical-align: middle;\n",
       "    }\n",
       "\n",
       "    .dataframe tbody tr th {\n",
       "        vertical-align: top;\n",
       "    }\n",
       "\n",
       "    .dataframe thead th {\n",
       "        text-align: right;\n",
       "    }\n",
       "</style>\n",
       "<table border=\"1\" class=\"dataframe\">\n",
       "  <thead>\n",
       "    <tr style=\"text-align: right;\">\n",
       "      <th></th>\n",
       "      <th>work_year</th>\n",
       "      <th>experience_level</th>\n",
       "      <th>job_title</th>\n",
       "      <th>salary_in_usd</th>\n",
       "      <th>remote_ratio</th>\n",
       "      <th>country</th>\n",
       "      <th>company_size</th>\n",
       "    </tr>\n",
       "  </thead>\n",
       "  <tbody>\n",
       "    <tr>\n",
       "      <th>0</th>\n",
       "      <td>2020</td>\n",
       "      <td>MI</td>\n",
       "      <td>Data Scientist</td>\n",
       "      <td>79833</td>\n",
       "      <td>0</td>\n",
       "      <td>other</td>\n",
       "      <td>L</td>\n",
       "    </tr>\n",
       "    <tr>\n",
       "      <th>7</th>\n",
       "      <td>2020</td>\n",
       "      <td>MI</td>\n",
       "      <td>Data Scientist</td>\n",
       "      <td>35735</td>\n",
       "      <td>50</td>\n",
       "      <td>other</td>\n",
       "      <td>L</td>\n",
       "    </tr>\n",
       "    <tr>\n",
       "      <th>10</th>\n",
       "      <td>2020</td>\n",
       "      <td>EN</td>\n",
       "      <td>Data Scientist</td>\n",
       "      <td>51321</td>\n",
       "      <td>0</td>\n",
       "      <td>other</td>\n",
       "      <td>S</td>\n",
       "    </tr>\n",
       "    <tr>\n",
       "      <th>11</th>\n",
       "      <td>2020</td>\n",
       "      <td>MI</td>\n",
       "      <td>Data Scientist</td>\n",
       "      <td>40481</td>\n",
       "      <td>0</td>\n",
       "      <td>other</td>\n",
       "      <td>L</td>\n",
       "    </tr>\n",
       "    <tr>\n",
       "      <th>12</th>\n",
       "      <td>2020</td>\n",
       "      <td>EN</td>\n",
       "      <td>Data Scientist</td>\n",
       "      <td>39916</td>\n",
       "      <td>0</td>\n",
       "      <td>other</td>\n",
       "      <td>M</td>\n",
       "    </tr>\n",
       "    <tr>\n",
       "      <th>...</th>\n",
       "      <td>...</td>\n",
       "      <td>...</td>\n",
       "      <td>...</td>\n",
       "      <td>...</td>\n",
       "      <td>...</td>\n",
       "      <td>...</td>\n",
       "      <td>...</td>\n",
       "    </tr>\n",
       "    <tr>\n",
       "      <th>593</th>\n",
       "      <td>2022</td>\n",
       "      <td>SE</td>\n",
       "      <td>Data Scientist</td>\n",
       "      <td>150000</td>\n",
       "      <td>100</td>\n",
       "      <td>US</td>\n",
       "      <td>M</td>\n",
       "    </tr>\n",
       "    <tr>\n",
       "      <th>598</th>\n",
       "      <td>2022</td>\n",
       "      <td>MI</td>\n",
       "      <td>Data Scientist</td>\n",
       "      <td>160000</td>\n",
       "      <td>100</td>\n",
       "      <td>US</td>\n",
       "      <td>M</td>\n",
       "    </tr>\n",
       "    <tr>\n",
       "      <th>599</th>\n",
       "      <td>2022</td>\n",
       "      <td>MI</td>\n",
       "      <td>Data Scientist</td>\n",
       "      <td>130000</td>\n",
       "      <td>100</td>\n",
       "      <td>US</td>\n",
       "      <td>M</td>\n",
       "    </tr>\n",
       "    <tr>\n",
       "      <th>602</th>\n",
       "      <td>2022</td>\n",
       "      <td>SE</td>\n",
       "      <td>Data Engineer</td>\n",
       "      <td>154000</td>\n",
       "      <td>100</td>\n",
       "      <td>US</td>\n",
       "      <td>M</td>\n",
       "    </tr>\n",
       "    <tr>\n",
       "      <th>603</th>\n",
       "      <td>2022</td>\n",
       "      <td>SE</td>\n",
       "      <td>Data Engineer</td>\n",
       "      <td>126000</td>\n",
       "      <td>100</td>\n",
       "      <td>US</td>\n",
       "      <td>M</td>\n",
       "    </tr>\n",
       "  </tbody>\n",
       "</table>\n",
       "<p>224 rows × 7 columns</p>\n",
       "</div>"
      ],
      "text/plain": [
       "     work_year experience_level       job_title  salary_in_usd  remote_ratio  \\\n",
       "0         2020               MI  Data Scientist          79833             0   \n",
       "7         2020               MI  Data Scientist          35735            50   \n",
       "10        2020               EN  Data Scientist          51321             0   \n",
       "11        2020               MI  Data Scientist          40481             0   \n",
       "12        2020               EN  Data Scientist          39916             0   \n",
       "..         ...              ...             ...            ...           ...   \n",
       "593       2022               SE  Data Scientist         150000           100   \n",
       "598       2022               MI  Data Scientist         160000           100   \n",
       "599       2022               MI  Data Scientist         130000           100   \n",
       "602       2022               SE   Data Engineer         154000           100   \n",
       "603       2022               SE   Data Engineer         126000           100   \n",
       "\n",
       "    country company_size  \n",
       "0     other            L  \n",
       "7     other            L  \n",
       "10    other            S  \n",
       "11    other            L  \n",
       "12    other            M  \n",
       "..      ...          ...  \n",
       "593      US            M  \n",
       "598      US            M  \n",
       "599      US            M  \n",
       "602      US            M  \n",
       "603      US            M  \n",
       "\n",
       "[224 rows x 7 columns]"
      ]
     },
     "execution_count": 697,
     "metadata": {},
     "output_type": "execute_result"
    }
   ],
   "source": [
    "data"
   ]
  },
  {
   "cell_type": "markdown",
   "metadata": {},
   "source": [
    "2.1 Зарплата"
   ]
  },
  {
   "cell_type": "code",
   "execution_count": 698,
   "metadata": {},
   "outputs": [
    {
     "data": {
      "text/plain": [
       "Text(0.5, 1.0, 'Общее распределение зарплаты')"
      ]
     },
     "execution_count": 698,
     "metadata": {},
     "output_type": "execute_result"
    },
    {
     "data": {
      "image/png": "[encoded data removed]",
      "text/plain": [
       "<Figure size 432x288 with 1 Axes>"
      ]
     },
     "metadata": {},
     "output_type": "display_data"
    }
   ],
   "source": [
    "fig2= sns.histplot(x=data['salary_in_usd'], color='green', kde=True) # похоже на нормальное распределение\n",
    "fig2.set_title('Общее распределение зарплаты')"
   ]
  },
  {
   "cell_type": "markdown",
   "metadata": {},
   "source": [
    "2.2 Год выплаты"
   ]
  },
  {
   "cell_type": "code",
   "execution_count": 699,
   "metadata": {},
   "outputs": [],
   "source": [
    "# здесь и далее для категориальных признаков представлены гистограммы, которые фактически представляют собой столбчатые диаграммы \n",
    "# с вариациями признака по оси X и их количеством по оси Y"
   ]
  },
  {
   "cell_type": "code",
   "execution_count": 700,
   "metadata": {},
   "outputs": [
    {
     "data": {
      "text/plain": [
       "Text(0.5, 1.0, 'Распределение годов выплат')"
      ]
     },
     "execution_count": 700,
     "metadata": {},
     "output_type": "execute_result"
    },
    {
     "data": {
      "image/png": "[encoded data removed]",
      "text/plain": [
       "<Figure size 432x288 with 1 Axes>"
      ]
     },
     "metadata": {},
     "output_type": "display_data"
    }
   ],
   "source": [
    "fig3 = sns.histplot(x=data['work_year'], bins=3, color='orange')\n",
    "plt.xticks([2020, 2021, 2022])\n",
    "fig3.set_title('Распределение годов выплат')"
   ]
  },
  {
   "cell_type": "markdown",
   "metadata": {},
   "source": [
    "2.3 Опыт работы"
   ]
  },
  {
   "cell_type": "code",
   "execution_count": 701,
   "metadata": {},
   "outputs": [
    {
     "data": {
      "text/plain": [
       "Text(0.5, 1.0, 'Распределение опыта работы')"
      ]
     },
     "execution_count": 701,
     "metadata": {},
     "output_type": "execute_result"
    },
    {
     "data": {
      "image/png": "[encoded data removed]",
      "text/plain": [
       "<Figure size 432x288 with 1 Axes>"
      ]
     },
     "metadata": {},
     "output_type": "display_data"
    }
   ],
   "source": [
    "fig4 = sns.histplot(x=data['experience_level'], color='blue')\n",
    "fig4.set_title('Распределение опыта работы')"
   ]
  },
  {
   "cell_type": "markdown",
   "metadata": {},
   "source": [
    "2.4 Рабочая роль "
   ]
  },
  {
   "cell_type": "code",
   "execution_count": 702,
   "metadata": {},
   "outputs": [
    {
     "data": {
      "text/plain": [
       "Text(0.5, 1.0, 'Распределение рабочих ролей')"
      ]
     },
     "execution_count": 702,
     "metadata": {},
     "output_type": "execute_result"
    },
    {
     "data": {
      "image/png": "[encoded data removed]",
      "text/plain": [
       "<Figure size 432x288 with 1 Axes>"
      ]
     },
     "metadata": {},
     "output_type": "display_data"
    }
   ],
   "source": [
    "fig5 = sns.histplot(x=data['job_title'], color='red')\n",
    "fig5.set_title('Распределение рабочих ролей')"
   ]
  },
  {
   "cell_type": "markdown",
   "metadata": {},
   "source": [
    "2.5 Общий объём работы, выполняемой удалённо"
   ]
  },
  {
   "cell_type": "code",
   "execution_count": 703,
   "metadata": {},
   "outputs": [
    {
     "data": {
      "text/plain": [
       "Text(0.5, 1.0, 'Распределение объема работы')"
      ]
     },
     "execution_count": 703,
     "metadata": {},
     "output_type": "execute_result"
    },
    {
     "data": {
      "image/png": "[encoded data removed]",
      "text/plain": [
       "<Figure size 432x288 with 1 Axes>"
      ]
     },
     "metadata": {},
     "output_type": "display_data"
    }
   ],
   "source": [
    "fig6 = sns.histplot(x=data['remote_ratio'], bins=3, color='yellow')\n",
    "plt.xticks([0, 50, 100])\n",
    "fig6.set_title('Распределение объема работы')"
   ]
  },
  {
   "cell_type": "markdown",
   "metadata": {},
   "source": [
    "2.6 Страна"
   ]
  },
  {
   "cell_type": "code",
   "execution_count": 704,
   "metadata": {},
   "outputs": [
    {
     "data": {
      "text/plain": [
       "Text(0.5, 1.0, 'Распределение работодателей (работников) по странам ')"
      ]
     },
     "execution_count": 704,
     "metadata": {},
     "output_type": "execute_result"
    },
    {
     "data": {
      "image/png": "[encoded data removed]",
      "text/plain": [
       "<Figure size 432x288 with 1 Axes>"
      ]
     },
     "metadata": {},
     "output_type": "display_data"
    }
   ],
   "source": [
    "fig7= sns.histplot(x=data['country'], color='purple')\n",
    "fig7.set_title('Распределение работодателей (работников) по странам ')"
   ]
  },
  {
   "cell_type": "markdown",
   "metadata": {},
   "source": [
    "2.7 Размер компании"
   ]
  },
  {
   "cell_type": "code",
   "execution_count": 705,
   "metadata": {},
   "outputs": [
    {
     "data": {
      "text/plain": [
       "Text(0.5, 1.0, 'Распределение размеров компаний')"
      ]
     },
     "execution_count": 705,
     "metadata": {},
     "output_type": "execute_result"
    },
    {
     "data": {
      "image/png": "[encoded data removed]",
      "text/plain": [
       "<Figure size 432x288 with 1 Axes>"
      ]
     },
     "metadata": {},
     "output_type": "display_data"
    }
   ],
   "source": [
    "fig8 = sns.histplot(x=data['company_size'], color='grey')\n",
    "fig8.set_title('Распределение размеров компаний')"
   ]
  },
  {
   "cell_type": "markdown",
   "metadata": {},
   "source": [
    "3. Ключевые вопросы"
   ]
  },
  {
   "cell_type": "code",
   "execution_count": 706,
   "metadata": {},
   "outputs": [],
   "source": [
    "# для удобства разделим данные на отдельные таблицы\n",
    "data_ds=data[data['job_title']=='Data Scientist']\n",
    "data_de=data[data['job_title']=='Data Engineer']"
   ]
  },
  {
   "cell_type": "markdown",
   "metadata": {},
   "source": [
    "3.1 Наблюдается ли ежегодный рост зарплат у специалистов Data Scientist?"
   ]
  },
  {
   "cell_type": "code",
   "execution_count": 707,
   "metadata": {},
   "outputs": [
    {
     "data": {
      "text/plain": [
       "Text(0.5, 1.0, 'Зависимость средней зарплаты DS по годам')"
      ]
     },
     "execution_count": 707,
     "metadata": {},
     "output_type": "execute_result"
    },
    {
     "data": {
      "image/png": "[encoded data removed]",
      "text/plain": [
       "<Figure size 432x288 with 1 Axes>"
      ]
     },
     "metadata": {},
     "output_type": "display_data"
    }
   ],
   "source": [
    "df311=data_ds.groupby(by='work_year', as_index=False)['salary_in_usd'].mean() \n",
    "# т.к. мы избавились от выбросов в размере зарплаты (см. п. 1.3) можем использовать среднее, а не медиану\n",
    "\n",
    "fig9=sns.barplot(data=df311, x='work_year', y='salary_in_usd') \n",
    "fig9.set_title('Зависимость средней зарплаты DS по годам')"
   ]
  },
  {
   "cell_type": "markdown",
   "metadata": {},
   "source": [
    "По графику видно, что средняя зарплата у DS растет, но не из года в год. Проверим 2020 г. и 2021 г. на предмет \"погрешности\" с помощью статистического теста."
   ]
  },
  {
   "cell_type": "code",
   "execution_count": 708,
   "metadata": {},
   "outputs": [
    {
     "name": "stdout",
     "output_type": "stream",
     "text": [
      "зарплаты в 2020 г. [79833, 35735, 51321, 40481, 39916, 76958, 105000, 38776, 118000, 120000, 138350, 62726, 49268, 105000, 91237, 42197]\n",
      "зарплаты в 2021 г. [53192, 29751, 73000, 50000, 9466, 49646, 100000, 80000, 82500, 150000, 75774, 13400, 2859, 40038, 90734, 147000, 37825, 160000, 12901, 116914, 33808, 56256, 87738, 88654, 135000, 46809, 4000, 103691, 165000, 36643, 115000, 90000, 28399, 130000, 16904, 77684, 100000, 58000, 20171, 109000]\n",
      "зарплата в 2020 г. p-value: 0.07451961189508438\n",
      "зарплата в 2021 г. p-value: 0.16408567130565643\n",
      "равенство дисперсий p-value: 0.19765454709405272\n",
      "Ttest_indResult(statistic=-0.2152613671406687, pvalue=0.5848127465261412)\n"
     ]
    }
   ],
   "source": [
    "data_ds['salary_in_usd'][data_ds['work_year']==2020].mean() # 74675\n",
    "data_ds['salary_in_usd'][data_ds['work_year']==2021].mean() # 71944\n",
    "data_ds['salary_in_usd'][data_ds['work_year']==2022].mean() # 135848\n",
    "\n",
    "sal_2020=data_ds['salary_in_usd'][data_ds['work_year']==2020].to_list()\n",
    "sal_2021=data_ds['salary_in_usd'][data_ds['work_year']==2021].to_list()\n",
    "print('зарплаты в 2020 г.', sal_2020)\n",
    "print('зарплаты в 2021 г.', sal_2021)\n",
    "\n",
    "# проводим тест Шапиро — Уилка\n",
    "print('зарплата в 2020 г. p-value:', stats.shapiro(sal_2020)[1])\n",
    "print('зарплата в 2021 г. p-value:', stats.shapiro(sal_2021)[1]) # обе выборки распределены нормально\n",
    "\n",
    "# т.к. две группы с нормальным распределением имеют разный объем выборки, будем считать их независимыми - двухвыборочный Т-критерий\n",
    "\n",
    "# нулевая гипотеза: средний размер зарплаты в 2021 г. меньше либо равен среднему размеру зарплаты в 2020 г.\n",
    "# альтернативная гипотеза: средний размер зарплаты в 2021 г. больше среднего размера зарплаты в 2020 г.\n",
    "\n",
    "# проводим тест Левена на равенство дисперсий\n",
    "print('равенство дисперсий p-value:',stats.levene(sal_2021, sal_2020)[1]) # дисперсии одинаковые\n",
    "\n",
    "# проводим тест на сравнение средних в группах\n",
    "print(stats.ttest_ind(sal_2021, sal_2020, alternative='greater', equal_var=True))\n",
    "\n",
    "# p-value больше альфа - нет оснований отвергнуть нулевую гипотезу"
   ]
  },
  {
   "cell_type": "markdown",
   "metadata": {},
   "source": [
    "Дополнительно проверим, действительно ли средняя зарплата за 2021 г. больше 70000."
   ]
  },
  {
   "cell_type": "code",
   "execution_count": 754,
   "metadata": {},
   "outputs": [
    {
     "name": "stdout",
     "output_type": "stream",
     "text": [
      "2021 p-value: 0.16408567130565643\n",
      "Ttest_1sampResult(statistic=0.26873394917026855, pvalue=0.39477547604345853)\n"
     ]
    }
   ],
   "source": [
    "# проводим тест Шапиро — Уилка\n",
    "print('2021 p-value:', stats.shapiro(sal_2021)[1]) # данные распределены нормально\n",
    "\n",
    "# одна группа с нормальным распределением - одновыборочный Т-критерий\n",
    "\n",
    "# нулевая гипотеза: средний размер зарплаты в 2021 меньше либо равен 70000\n",
    "# альтернативная гипотеза: средний размер зарплаты в 2021 больше 70000\n",
    "\n",
    "# проводим t-test\n",
    "print(stats.ttest_1samp(sal_2021, popmean=70000, alternative='greater'))\n",
    "\n",
    "# p-value больше альфа - нет оснований отвергнуть нулевую гипотезу"
   ]
  },
  {
   "cell_type": "markdown",
   "metadata": {},
   "source": [
    "Результат теста подвтердил, что размер средней зарплаты в 2021 г. ниже 2020 г.\n",
    "Проверим, сохраняется ли такая тенденция в зависимости от уровня подготовки работников. "
   ]
  },
  {
   "cell_type": "markdown",
   "metadata": {},
   "source": [
    "3.2 Зависит ли размер зарплаты от уровня подготовки?"
   ]
  },
  {
   "cell_type": "code",
   "execution_count": 710,
   "metadata": {},
   "outputs": [
    {
     "data": {
      "text/plain": [
       "Text(0.5, 1.0, 'Зависимость средней зарплаты DS по годам и уровню подготовки')"
      ]
     },
     "execution_count": 710,
     "metadata": {},
     "output_type": "execute_result"
    },
    {
     "data": {
      "image/png": "[encoded data removed]",
      "text/plain": [
       "<Figure size 432x288 with 1 Axes>"
      ]
     },
     "metadata": {},
     "output_type": "display_data"
    }
   ],
   "source": [
    "df312=data_ds.groupby(by=['work_year', 'experience_level'], as_index=False)['salary_in_usd'].mean()\n",
    "fig10=sns.barplot(data=df312, x='work_year', y='salary_in_usd', hue='experience_level') \n",
    "fig10.set_title('Зависимость средней зарплаты DS по годам и уровню подготовки')"
   ]
  },
  {
   "cell_type": "markdown",
   "metadata": {},
   "source": [
    "Можно увидеть, что специалисты уровня EN, пожалуй, свободны от временных изменений. Год 2021 был нелегких для всех, наверняка причиной тому COVID или политические события.\n",
    "Но сохраняется ли подобная тендеция по странам? Попробуем выяснить"
   ]
  },
  {
   "cell_type": "markdown",
   "metadata": {},
   "source": [
    "3.3 Зависит ли размер зарплаты от страны работодателя (работника)?"
   ]
  },
  {
   "cell_type": "code",
   "execution_count": 711,
   "metadata": {},
   "outputs": [
    {
     "data": {
      "text/plain": [
       "[<matplotlib.axis.YTick at 0x29cb39e55e0>,\n",
       " <matplotlib.axis.YTick at 0x29cb39dde20>,\n",
       " <matplotlib.axis.YTick at 0x29cb39dd340>,\n",
       " <matplotlib.axis.YTick at 0x29cb3a83d00>,\n",
       " <matplotlib.axis.YTick at 0x29cb3a8d490>,\n",
       " <matplotlib.axis.YTick at 0x29cb3a8dbe0>,\n",
       " <matplotlib.axis.YTick at 0x29cb3a93370>,\n",
       " <matplotlib.axis.YTick at 0x29cb3a8d880>,\n",
       " <matplotlib.axis.YTick at 0x29cb3a02ac0>,\n",
       " <matplotlib.axis.YTick at 0x29cb3a930d0>]"
      ]
     },
     "execution_count": 711,
     "metadata": {},
     "output_type": "execute_result"
    },
    {
     "data": {
      "image/png": "[encoded data removed]",
      "text/plain": [
       "<Figure size 1080x360 with 2 Axes>"
      ]
     },
     "metadata": {},
     "output_type": "display_data"
    }
   ],
   "source": [
    "df313=data_ds.groupby(by=['work_year', 'experience_level','country'], as_index=False)['salary_in_usd'].mean()\n",
    "fig, axes =  plt.subplots(nrows=1, ncols=2, figsize=(15, 5))\n",
    "fig11=sns.barplot(data=df313[df313['country']=='US'], x='work_year', y='salary_in_usd', hue='experience_level', ax=axes[0]) \n",
    "fig12=sns.barplot(data=df313[df313['country']=='other'], x='work_year', y='salary_in_usd', hue='experience_level', ax=axes[1]) \n",
    "axes[0].set_title('Зависимость средней зарплаты DS по годам и уровню подготовки в US',fontsize=10)\n",
    "axes[1].set_title('Зависимость средней зарплаты DS по годам и уровню подготовки в других странах',fontsize=10)\n",
    "axes[0].set_yticks(range(0, 200000, 20000)) \n",
    "axes[1].set_yticks(range(0, 200000, 20000)) "
   ]
  },
  {
   "cell_type": "markdown",
   "metadata": {},
   "source": [
    "Хоть зарплата для уровеня подготовки EN в US в 2022 г. отсуствует, можно с уверенностью предположить, что ее размер выше, чем в других странах, как и зарплаты для остальных уровней подгтовки. \n",
    "\n",
    "В 2020 г. в US зарплата у MI и SE отличается не в пользу последних, что является подозрительным. В 2020 г. в других странах зарплата у EN и MI почти не различается, что также является подозрительным. Попробуем оценить значимость подобных результатов с помощью статистических тестов.\n",
    "\n",
    "Значимость иных результатов анализа, интерпретируемых с помощью графических зависимостей, проверять в данном случае не будем, т.к. они  соответсвуют объективным причинам. Мы сможем вернутсья к этому вопросу при необходимости."
   ]
  },
  {
   "cell_type": "code",
   "execution_count": 712,
   "metadata": {},
   "outputs": [
    {
     "name": "stdout",
     "output_type": "stream",
     "text": [
      "зарплаты EN в 2020 г. в др. странах [51321, 39916, 62726, 49268]\n",
      "зарплаты MI в 2020 г. в др. странах [79833, 35735, 40481, 76958, 38776, 42197]\n",
      "EN p-value: 0.8686812520027161\n",
      "MI p-value: 0.017779143527150154\n",
      "MannwhitneyuResult(statistic=14.0, pvalue=0.7619047619047619)\n"
     ]
    }
   ],
   "source": [
    "EN_2020_sal=data_ds['salary_in_usd'][(data_ds['country']=='other')&(data_ds['work_year']==2020)&(data_ds['experience_level']=='EN')].to_list()\n",
    "print('зарплаты EN в 2020 г. в др. странах', EN_2020_sal)\n",
    "MI_2020_sal=data_ds['salary_in_usd'][(data_ds['country']=='other')&(data_ds['work_year']==2020)&(data_ds['experience_level']=='MI')].to_list()\n",
    "print('зарплаты MI в 2020 г. в др. странах', MI_2020_sal)\n",
    "\n",
    "# выборки получились совсем небольшими, однако, я не нашел (как минимум, косвенно) ограничений для таких объемов\n",
    "\n",
    "# проводим тест Шапиро — Уилка\n",
    "print('EN p-value:', stats.shapiro(EN_2020_sal)[1])\n",
    "print('MI p-value:', stats.shapiro(MI_2020_sal)[1]) # обе выборки одновременно не распределены нормально\n",
    "\n",
    "# две независимые группы, ненормальное распределение - U-критерий Манна-Уитни\n",
    "\n",
    "# нулевая гипотеза: распределение зарплаты в 2020 г. у EN и MI одинаковое\n",
    "# альтернативная гипотеза: распределение зарплаты в 2020 г. у EN и MI отличается\n",
    "\n",
    "p = stats.mannwhitneyu(EN_2020_sal, MI_2020_sal)\n",
    "print(p)\n",
    "\n",
    "# p-value больше альфа - нет оснований отвергнуть нулевую гипотезу"
   ]
  },
  {
   "cell_type": "code",
   "execution_count": 713,
   "metadata": {},
   "outputs": [
    {
     "name": "stdout",
     "output_type": "stream",
     "text": [
      "зарплаты MI в 2020 г. в US [105000, 118000, 138350]\n",
      "зарплаты SE в 2020 г. в US [120000]\n"
     ]
    }
   ],
   "source": [
    "MI_2020_sal=data_ds['salary_in_usd'][(data_ds['country']=='US')&(data_ds['work_year']==2020)&(data_ds['experience_level']=='MI')].to_list()\n",
    "print('зарплаты MI в 2020 г. в US', MI_2020_sal)\n",
    "SE_2020_sal=data_ds['salary_in_usd'][(data_ds['country']=='US')&(data_ds['work_year']==2020)&(data_ds['experience_level']=='SE')].to_list()\n",
    "print('зарплаты SE в 2020 г. в US', SE_2020_sal)"
   ]
  },
  {
   "cell_type": "markdown",
   "metadata": {},
   "source": [
    "Результат теста показал, что зарплаты  у EN и MI (их распределения) в других странах в 2020 г. не различаются. \n",
    "\n",
    "Выборки зарплат для US в 2020 г. для MI и SE получились непригодными для статистического теста, что дает нам моральное право (и не только) оценить их \"напрямую\": если взять медианну зарплату вместо средней, то рост зарплаты с увеличением уровня подготовки сохраняется.\n",
    "\n",
    "Здесь имеет место некоторый подгон под ответ, но не без оснований: пограничное состояние, на фоне оценки с точки зрения здравого смысла, было отнесено в пользу именно здравого смысла. \n",
    "\n",
    "Учитывая небольшие размеры  выборок и общую тендецию по уровню подготовки, осторожно заментим: размер зарплаты, как правило, растет с повышением уровня квалификации."
   ]
  },
  {
   "cell_type": "markdown",
   "metadata": {},
   "source": [
    "3.4 Как соотносятся зарплаты Data Scientist и Data Engineer в 2022 году?"
   ]
  },
  {
   "cell_type": "code",
   "execution_count": 714,
   "metadata": {},
   "outputs": [
    {
     "data": {
      "text/plain": [
       "[<matplotlib.axis.YTick at 0x29cb3af9df0>,\n",
       " <matplotlib.axis.YTick at 0x29cb3af9670>,\n",
       " <matplotlib.axis.YTick at 0x29cb3b79250>,\n",
       " <matplotlib.axis.YTick at 0x29cb3b70340>,\n",
       " <matplotlib.axis.YTick at 0x29cb3b7e700>,\n",
       " <matplotlib.axis.YTick at 0x29cb3b7ee50>,\n",
       " <matplotlib.axis.YTick at 0x29cb3b855e0>,\n",
       " <matplotlib.axis.YTick at 0x29cb3b85d30>,\n",
       " <matplotlib.axis.YTick at 0x29cb3b85ca0>,\n",
       " <matplotlib.axis.YTick at 0x29cb3af45e0>]"
      ]
     },
     "execution_count": 714,
     "metadata": {},
     "output_type": "execute_result"
    },
    {
     "data": {
      "image/png": "[encoded data removed]",
      "text/plain": [
       "<Figure size 1080x360 with 2 Axes>"
      ]
     },
     "metadata": {},
     "output_type": "display_data"
    }
   ],
   "source": [
    "sal_ds_2022=data_ds['salary_in_usd'][data_ds['work_year']==2022]\n",
    "sal_de_2022=data_de['salary_in_usd'][data_de['work_year']==2022]\n",
    "\n",
    "sal_ds_2022.mean() # 135848\n",
    "sal_de_2022.mean() # 119897\n",
    "\n",
    "fig, axes =  plt.subplots(nrows=1, ncols=2, figsize=(15, 5))\n",
    "fig13=sns.histplot(x=sal_ds_2022, color='lime', kde=True, ax=axes[0]) \n",
    "fig14=sns.histplot(x=sal_de_2022, color='aquamarine', kde=True, ax=axes[1]) \n",
    "axes[0].set_title('Распределение зарплаты у DS в 2022 г.',fontsize=10)\n",
    "axes[1].set_title('Распределение зарплаты у DE в 2022 г.',fontsize=10)\n",
    "axes[0].set_yticks(range(0, 20, 2)) \n",
    "axes[1].set_yticks(range(0, 20, 2)) "
   ]
  },
  {
   "cell_type": "code",
   "execution_count": 715,
   "metadata": {},
   "outputs": [
    {
     "name": "stdout",
     "output_type": "stream",
     "text": [
      "DS p-value: 0.8100998997688293\n",
      "DE p-value: 0.08788563311100006\n",
      "равенство дисперсий p-value: 0.6902741885934991\n",
      "Ttest_indResult(statistic=1.7406616553727459, pvalue=0.04204546196653694)\n"
     ]
    }
   ],
   "source": [
    "# проводим тест Шапиро — Уилка\n",
    "print('DS p-value:', stats.shapiro(sal_ds_2022)[1])\n",
    "print('DE p-value:', stats.shapiro(sal_de_2022)[1]) # обе выборки распределены нормально\n",
    "\n",
    "# две независимые группы с нормальным распределением - двухвыборочный Т-критерий\n",
    "\n",
    "# нулевая гипотеза: средний размер зарплаты в 2022 г. у DS меньше либо равен среднему размеру зарплаты в 2022 г. у DE\n",
    "# альтернативная гипотеза: средний размер зарплаты в 2022 г. у DS больше среднего размера зарплаты в 2022 г. у DE\n",
    "\n",
    "# проводим тест Левена на равенство дисперсий\n",
    "print('равенство дисперсий p-value:',stats.levene(sal_ds_2022, sal_de_2022)[1]) # дисперсии одинаковые\n",
    "\n",
    "# проводим тест на сравнение средних в группах\n",
    "print(stats.ttest_ind(sal_ds_2022, sal_de_2022, alternative='greater', equal_var=True))\n",
    "\n",
    "# p-value меньше альфа - отвергаем нулевую гипотезу"
   ]
  },
  {
   "cell_type": "markdown",
   "metadata": {},
   "source": [
    "Средний размер зарплаты у DS в 2022 г. больше среднего размера зарплаты у DE в 2022 г."
   ]
  },
  {
   "cell_type": "markdown",
   "metadata": {},
   "source": [
    "3.5 Как соотносятся зарплаты специалистов Data Scientist в компаниях различных размеров?"
   ]
  },
  {
   "cell_type": "code",
   "execution_count": 716,
   "metadata": {},
   "outputs": [
    {
     "data": {
      "text/plain": [
       "Text(0.5, 1.0, 'Зависимость средней зарплаты DS от размера компании')"
      ]
     },
     "execution_count": 716,
     "metadata": {},
     "output_type": "execute_result"
    },
    {
     "data": {
      "image/png": "[encoded data removed]",
      "text/plain": [
       "<Figure size 432x288 with 1 Axes>"
      ]
     },
     "metadata": {},
     "output_type": "display_data"
    }
   ],
   "source": [
    "df351=data_ds.groupby(by=['company_size'], as_index=False)['salary_in_usd'].mean()\n",
    "fig15=sns.barplot(data=df351, x='company_size', y='salary_in_usd',) \n",
    "fig15.set_title('Зависимость средней зарплаты DS от размера компании')"
   ]
  },
  {
   "cell_type": "code",
   "execution_count": 717,
   "metadata": {},
   "outputs": [
    {
     "name": "stdout",
     "output_type": "stream",
     "text": [
      "S p-value: 0.13523365557193756\n",
      "M p-value: 0.8448938727378845\n",
      "L p-value: 0.052294597029685974\n",
      "равенство дисперсий p-value: 0.11606998807397481\n",
      "F_onewayResult(statistic=8.59544904862877, pvalue=0.00033506330075091595)\n"
     ]
    }
   ],
   "source": [
    "s_DS=data_ds['salary_in_usd'][data_ds['company_size']=='S']\n",
    "m_DS=data_ds['salary_in_usd'][data_ds['company_size']=='M']\n",
    "l_DS=data_ds['salary_in_usd'][data_ds['company_size']=='L']\n",
    "\n",
    "s_DS.mean() # 58738\n",
    "m_DS.mean() # 122046\n",
    "l_DS.mean() # 97438\n",
    "\n",
    "# проводим тест Шапиро — Уилка\n",
    "print('S p-value:', stats.shapiro(s_DS)[1])\n",
    "print('M p-value:', stats.shapiro(m_DS)[1])\n",
    "print('L p-value:', stats.shapiro(l_DS)[1]) # все выборки распределены нормально\n",
    "\n",
    "# три независимые группы с нормальным распределением - однофакторный диспресионный анализ (ANOVA)\n",
    "\n",
    "# нулевая гипотеза: средний размер зарплаты в компаниях различных размеров одинаков\n",
    "# альтернативная гипотеза: средний размер зарплаты в компаниях различных размеров различается\n",
    "\n",
    "# проводим тест Левена на равенство дисперсий\n",
    "print('равенство дисперсий p-value:',stats.levene(s_DS, m_DS, l_DS)[1]) # дисперсии одинаковые\n",
    "\n",
    "# проводим тест на сравнение средних в группах\n",
    "print(stats.f_oneway(s_DS, m_DS, l_DS))\n",
    "\n",
    "# p-value меньше альфа - отвергаем нулевую гипотезу"
   ]
  },
  {
   "cell_type": "markdown",
   "metadata": {},
   "source": [
    "Промежуточный вывод: в компаниях различных размеров различается средний размер зарплаты, в компаниях среднего размера средний размер зарплаты наибольший. \n",
    "\n",
    "Проверим, сохраняется ли тендеция в зависимости от уровня подготовки работника?"
   ]
  },
  {
   "cell_type": "code",
   "execution_count": 718,
   "metadata": {},
   "outputs": [
    {
     "data": {
      "image/png": "[encoded data removed]",
      "text/plain": [
       "<Figure size 432x288 with 1 Axes>"
      ]
     },
     "metadata": {},
     "output_type": "display_data"
    }
   ],
   "source": [
    "df352=data_ds.groupby(by=['company_size','experience_level'], as_index=False)['salary_in_usd'].mean()\n",
    "fig16=sns.barplot(data=df352, x='company_size', y='salary_in_usd', hue='experience_level') "
   ]
  },
  {
   "cell_type": "markdown",
   "metadata": {},
   "source": [
    "В команиях среднего размера (M) средний размер зарплаты для каждого уровня подготовки работника больше среднего размера зарплаты в крупных компаниях (L) для соответсвенного уровня подготовки работника (прочитать сложно, но смысл, думаю, понятен).\n",
    "\n",
    "Небольшие компании (S) оставим за скобками: может быть, в некоторых из них работу EN выполняет специалист уровня MI, или вовсе работает один индивидуальный предприниматель, который сам себе EN и SE."
   ]
  },
  {
   "cell_type": "markdown",
   "metadata": {},
   "source": [
    "3.6 Есть ли связь между наличием должностей Data Scientist и Data Engineer и размером компании?"
   ]
  },
  {
   "cell_type": "code",
   "execution_count": 729,
   "metadata": {},
   "outputs": [
    {
     "data": {
      "text/plain": [
       "[<matplotlib.axis.YTick at 0x29cb64e24c0>,\n",
       " <matplotlib.axis.YTick at 0x29cb64de910>,\n",
       " <matplotlib.axis.YTick at 0x29cb64de340>,\n",
       " <matplotlib.axis.YTick at 0x29cb651f760>,\n",
       " <matplotlib.axis.YTick at 0x29cb6517a30>]"
      ]
     },
     "execution_count": 729,
     "metadata": {},
     "output_type": "execute_result"
    },
    {
     "data": {
      "image/png": "[encoded data removed]",
      "text/plain": [
       "<Figure size 864x360 with 2 Axes>"
      ]
     },
     "metadata": {},
     "output_type": "display_data"
    }
   ],
   "source": [
    "df361=data_ds.groupby(by=['company_size'], as_index=False)['job_title'].count()\n",
    "df362=data_de.groupby(by=['company_size'], as_index=False)['job_title'].count()\n",
    "\n",
    "fig, axes =  plt.subplots(nrows=1, ncols=2, figsize=(12, 5))\n",
    "fig17=sns.barplot(data=df361, x='company_size', y='job_title', ax=axes[0]) \n",
    "fig18=sns.barplot(data=df362, x='company_size', y='job_title', ax=axes[1]) \n",
    "axes[0].set_title('Зависимость количества должностей DS от размера компании',fontsize=10)\n",
    "axes[1].set_title('Зависимость количества должностей DE от размера компании',fontsize=10)\n",
    "fig17.set_ylabel('count')\n",
    "fig18.set_ylabel('count')\n",
    "axes[0].set_yticks(range(0, 100, 20)) \n",
    "axes[1].set_yticks(range(0, 100, 20)) "
   ]
  },
  {
   "cell_type": "markdown",
   "metadata": {},
   "source": [
    "Исходя из рисунка, можно заключить, что связь между наличием должностей DS и DE и размером компании отсутсвует: наличие должностей DS и DE присутсвует для компаний любого размера.\n"
   ]
  },
  {
   "cell_type": "markdown",
   "metadata": {},
   "source": [
    "3.7 Предполагаемый формат работы у DS и DE"
   ]
  },
  {
   "cell_type": "markdown",
   "metadata": {},
   "source": [
    "Признак remote_ratio мы обошли вниманием. Исправим это с помощью теста для категориальных признаков. Учитывая, что количество DS и DE примерно одинаковое (см. fig5 п. 2.4), попробуем выяснить, есть ли связь между форматом работы и рабочей ролью."
   ]
  },
  {
   "cell_type": "code",
   "execution_count": 753,
   "metadata": {},
   "outputs": [
    {
     "data": {
      "text/html": [
       "<div>\n",
       "<style scoped>\n",
       "    .dataframe tbody tr th:only-of-type {\n",
       "        vertical-align: middle;\n",
       "    }\n",
       "\n",
       "    .dataframe tbody tr th {\n",
       "        vertical-align: top;\n",
       "    }\n",
       "\n",
       "    .dataframe thead th {\n",
       "        text-align: right;\n",
       "    }\n",
       "</style>\n",
       "<table border=\"1\" class=\"dataframe\">\n",
       "  <thead>\n",
       "    <tr style=\"text-align: right;\">\n",
       "      <th>job_title</th>\n",
       "      <th>Data Engineer</th>\n",
       "      <th>Data Scientist</th>\n",
       "    </tr>\n",
       "    <tr>\n",
       "      <th>remote_ratio_bi</th>\n",
       "      <th></th>\n",
       "      <th></th>\n",
       "    </tr>\n",
       "  </thead>\n",
       "  <tbody>\n",
       "    <tr>\n",
       "      <th>неудаленная</th>\n",
       "      <td>83</td>\n",
       "      <td>78</td>\n",
       "    </tr>\n",
       "    <tr>\n",
       "      <th>удаленная</th>\n",
       "      <td>25</td>\n",
       "      <td>38</td>\n",
       "    </tr>\n",
       "  </tbody>\n",
       "</table>\n",
       "</div>"
      ],
      "text/plain": [
       "job_title        Data Engineer  Data Scientist\n",
       "remote_ratio_bi                               \n",
       "неудаленная                 83              78\n",
       "удаленная                   25              38"
      ]
     },
     "metadata": {},
     "output_type": "display_data"
    },
    {
     "name": "stdout",
     "output_type": "stream",
     "text": [
      "p-value: 0.14710082825468032\n"
     ]
    }
   ],
   "source": [
    "# упростим задачу, классифицируя формат работы на удаленыый и неудаленный \n",
    "\n",
    "def remote_ratio_code(arg):\n",
    "    if arg>0:\n",
    "        return 'неудаленная'\n",
    "    else:\n",
    "        return 'удаленная'\n",
    "\n",
    "data['remote_ratio_bi']=data['remote_ratio'].apply(remote_ratio_code)\n",
    "\n",
    "# одна общая выборка (data), оцениваем связь между двумя категориальными переменными - Критерий хи-квадрат\n",
    "\n",
    "# нулевая гипотеза: признаки рабочей роли и формата работы независимы\n",
    "# альтернативная гипотеза: признаки рабочей роли и формата работы взаимосвязаны\n",
    "\n",
    "table1 = pd.crosstab(data['remote_ratio_bi'],data['job_title'])\n",
    "display(table1)\n",
    "\n",
    "print('p-value:',stats.chi2_contingency(table1)[1])\n",
    "\n",
    "# p-value больше альфа - нет оснований отвергать нулевую гипотезу"
   ]
  },
  {
   "cell_type": "markdown",
   "metadata": {},
   "source": [
    "4. Общие выводы по проекту\n",
    "\n",
    "4.1 Одназначного ежегодного роста зарплат у DS не наблюдается. Однако, с течением времени зарплата увеличивается.\n",
    "\n",
    "4.2 Зарплата в US у DS выше, чем в других странах.\n",
    "\n",
    "4.3 Размер зарплаты, как правило, растет с повышением уровня квалификации.\n",
    "\n",
    "4.4 Средний размер зарплаты у DS в 2022 г. больше среднего размера зарплаты у DE в 2022 г.\n",
    "\n",
    "4.5 В компаниях различных размеров различается средний размер зарплаты. \n",
    "\n",
    "4.6 В команиях среднего размера (M) средний размер зарплаты для каждого уровня подготовки работника больше среднего размера зарплаты в крупных компаниях (L) для соответсвенного уровня подготовки работника.\n",
    "\n",
    "4.7 В DS и DE нуждаются компании любого размера."
   ]
  },
  {
   "cell_type": "markdown",
   "metadata": {},
   "source": [
    "\n",
    "5. Примечания\n",
    "\n",
    "5.1 Медианна зарплата на fig1 п. 1.3 почти не отличается у DS и DE. Однако, такой прямой подход недопустим.  \n",
    "\n",
    "5.2 Дубликаты на первом этапе работы удалять, вероятно, не следовало, т.к. в их наличии нет ничего противоречивого: данные обезличены и могут повторяться.\n",
    "\n",
    "5.3 Очистка данных произведена \"слишком качественно\", что, безусловно, сказалось на итоговых выводах. Но, по моему мнению, такой подход обоснован и имеет право на жизнь в контексте поставленных задач."
   ]
  }
 ],
 "metadata": {
  "kernelspec": {
   "display_name": "Python 3",
   "language": "python",
   "name": "python3"
  },
  "language_info": {
   "codemirror_mode": {
    "name": "ipython",
    "version": 3
   },
   "file_extension": ".py",
   "mimetype": "text/x-python",
   "name": "python",
   "nbconvert_exporter": "python",
   "pygments_lexer": "ipython3",
   "version": "3.9.10"
  },
  "orig_nbformat": 4,
  "vscode": {
   "interpreter": {
    "hash": "ad4100d2ec61d4a9ef0b7a9834d0f74d6c8beeab6b5aa105028a49d10d3b25c4"
   }
  }
 },
 "nbformat": 4,
 "nbformat_minor": 2
}
