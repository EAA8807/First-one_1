{
 "cells": [
  {
   "cell_type": "code",
   "execution_count": 1,
   "metadata": {},
   "outputs": [],
   "source": [
    "import pandas as pd\n",
    "import numpy as np\n",
    "import category_encoders as ce\n",
    "\n",
    "import matplotlib.pyplot as plt\n",
    "import seaborn as sns\n",
    "\n",
    "import warnings # для отключения предупреждений\n",
    "warnings.simplefilter(action='ignore', category=FutureWarning)\n",
    "pd.options.mode.chained_assignment = None"
   ]
  },
  {
   "cell_type": "markdown",
   "metadata": {},
   "source": [
    "ПОДГОТОВКА ДАННЫХ"
   ]
  },
  {
   "cell_type": "code",
   "execution_count": 61,
   "metadata": {},
   "outputs": [],
   "source": [
    "train=pd.read_csv('data/hotels_train.csv')\n",
    "test=pd.read_csv('data/hotels_test.csv')"
   ]
  },
  {
   "cell_type": "code",
   "execution_count": 62,
   "metadata": {},
   "outputs": [],
   "source": [
    "# избавимся от дублей\n",
    "train.duplicated().value_counts() # 307\n",
    "train.drop_duplicates(inplace=True, ignore_index=True)"
   ]
  },
  {
   "cell_type": "code",
   "execution_count": 63,
   "metadata": {},
   "outputs": [],
   "source": [
    "# для обратного разделения данных\n",
    "train['sample']=1\n",
    "test['sample']=0\n",
    "\n",
    "# объединяем\n",
    "test['reviewer_score']=0 \n",
    "data=pd.concat([test,train])"
   ]
  },
  {
   "cell_type": "code",
   "execution_count": 64,
   "metadata": {},
   "outputs": [
    {
     "data": {
      "text/html": [
       "<div>\n",
       "<style scoped>\n",
       "    .dataframe tbody tr th:only-of-type {\n",
       "        vertical-align: middle;\n",
       "    }\n",
       "\n",
       "    .dataframe tbody tr th {\n",
       "        vertical-align: top;\n",
       "    }\n",
       "\n",
       "    .dataframe thead th {\n",
       "        text-align: right;\n",
       "    }\n",
       "</style>\n",
       "<table border=\"1\" class=\"dataframe\">\n",
       "  <thead>\n",
       "    <tr style=\"text-align: right;\">\n",
       "      <th></th>\n",
       "      <th>hotel_address</th>\n",
       "      <th>additional_number_of_scoring</th>\n",
       "      <th>review_date</th>\n",
       "      <th>average_score</th>\n",
       "      <th>hotel_name</th>\n",
       "      <th>reviewer_nationality</th>\n",
       "      <th>negative_review</th>\n",
       "      <th>review_total_negative_word_counts</th>\n",
       "      <th>total_number_of_reviews</th>\n",
       "      <th>positive_review</th>\n",
       "      <th>review_total_positive_word_counts</th>\n",
       "      <th>total_number_of_reviews_reviewer_has_given</th>\n",
       "      <th>tags</th>\n",
       "      <th>days_since_review</th>\n",
       "      <th>lat</th>\n",
       "      <th>lng</th>\n",
       "      <th>sample</th>\n",
       "      <th>reviewer_score</th>\n",
       "    </tr>\n",
       "  </thead>\n",
       "  <tbody>\n",
       "    <tr>\n",
       "      <th>0</th>\n",
       "      <td>Via Senigallia 6 20161 Milan Italy</td>\n",
       "      <td>904</td>\n",
       "      <td>7/21/2017</td>\n",
       "      <td>8.1</td>\n",
       "      <td>Hotel Da Vinci</td>\n",
       "      <td>United Kingdom</td>\n",
       "      <td>Would have appreciated a shop in the hotel th...</td>\n",
       "      <td>52</td>\n",
       "      <td>16670</td>\n",
       "      <td>Hotel was great clean friendly staff free bre...</td>\n",
       "      <td>62</td>\n",
       "      <td>1</td>\n",
       "      <td>[' Leisure trip ', ' Couple ', ' Double Room '...</td>\n",
       "      <td>13 days</td>\n",
       "      <td>45.533137</td>\n",
       "      <td>9.171102</td>\n",
       "      <td>0</td>\n",
       "      <td>0.0</td>\n",
       "    </tr>\n",
       "    <tr>\n",
       "      <th>1</th>\n",
       "      <td>Arlandaweg 10 Westpoort 1043 EW Amsterdam Neth...</td>\n",
       "      <td>612</td>\n",
       "      <td>12/12/2016</td>\n",
       "      <td>8.6</td>\n",
       "      <td>Urban Lodge Hotel</td>\n",
       "      <td>Belgium</td>\n",
       "      <td>No tissue paper box was present at the room</td>\n",
       "      <td>10</td>\n",
       "      <td>5018</td>\n",
       "      <td>No Positive</td>\n",
       "      <td>0</td>\n",
       "      <td>7</td>\n",
       "      <td>[' Leisure trip ', ' Group ', ' Triple Room ',...</td>\n",
       "      <td>234 day</td>\n",
       "      <td>52.385649</td>\n",
       "      <td>4.834443</td>\n",
       "      <td>0</td>\n",
       "      <td>0.0</td>\n",
       "    </tr>\n",
       "    <tr>\n",
       "      <th>2</th>\n",
       "      <td>Mallorca 251 Eixample 08008 Barcelona Spain</td>\n",
       "      <td>46</td>\n",
       "      <td>11/26/2015</td>\n",
       "      <td>8.3</td>\n",
       "      <td>Alexandra Barcelona A DoubleTree by Hilton</td>\n",
       "      <td>Sweden</td>\n",
       "      <td>Pillows</td>\n",
       "      <td>3</td>\n",
       "      <td>351</td>\n",
       "      <td>Nice welcoming and service</td>\n",
       "      <td>5</td>\n",
       "      <td>15</td>\n",
       "      <td>[' Business trip ', ' Solo traveler ', ' Twin ...</td>\n",
       "      <td>616 day</td>\n",
       "      <td>41.393192</td>\n",
       "      <td>2.161520</td>\n",
       "      <td>0</td>\n",
       "      <td>0.0</td>\n",
       "    </tr>\n",
       "  </tbody>\n",
       "</table>\n",
       "</div>"
      ],
      "text/plain": [
       "                                       hotel_address  \\\n",
       "0                 Via Senigallia 6 20161 Milan Italy   \n",
       "1  Arlandaweg 10 Westpoort 1043 EW Amsterdam Neth...   \n",
       "2        Mallorca 251 Eixample 08008 Barcelona Spain   \n",
       "\n",
       "   additional_number_of_scoring review_date  average_score  \\\n",
       "0                           904   7/21/2017            8.1   \n",
       "1                           612  12/12/2016            8.6   \n",
       "2                            46  11/26/2015            8.3   \n",
       "\n",
       "                                   hotel_name reviewer_nationality  \\\n",
       "0                              Hotel Da Vinci      United Kingdom    \n",
       "1                           Urban Lodge Hotel             Belgium    \n",
       "2  Alexandra Barcelona A DoubleTree by Hilton              Sweden    \n",
       "\n",
       "                                     negative_review  \\\n",
       "0   Would have appreciated a shop in the hotel th...   \n",
       "1        No tissue paper box was present at the room   \n",
       "2                                           Pillows    \n",
       "\n",
       "   review_total_negative_word_counts  total_number_of_reviews  \\\n",
       "0                                 52                    16670   \n",
       "1                                 10                     5018   \n",
       "2                                  3                      351   \n",
       "\n",
       "                                     positive_review  \\\n",
       "0   Hotel was great clean friendly staff free bre...   \n",
       "1                                        No Positive   \n",
       "2                         Nice welcoming and service   \n",
       "\n",
       "   review_total_positive_word_counts  \\\n",
       "0                                 62   \n",
       "1                                  0   \n",
       "2                                  5   \n",
       "\n",
       "   total_number_of_reviews_reviewer_has_given  \\\n",
       "0                                           1   \n",
       "1                                           7   \n",
       "2                                          15   \n",
       "\n",
       "                                                tags days_since_review  \\\n",
       "0  [' Leisure trip ', ' Couple ', ' Double Room '...           13 days   \n",
       "1  [' Leisure trip ', ' Group ', ' Triple Room ',...           234 day   \n",
       "2  [' Business trip ', ' Solo traveler ', ' Twin ...           616 day   \n",
       "\n",
       "         lat       lng  sample  reviewer_score  \n",
       "0  45.533137  9.171102       0             0.0  \n",
       "1  52.385649  4.834443       0             0.0  \n",
       "2  41.393192  2.161520       0             0.0  "
      ]
     },
     "execution_count": 64,
     "metadata": {},
     "output_type": "execute_result"
    }
   ],
   "source": [
    "data.head(3)"
   ]
  },
  {
   "attachments": {},
   "cell_type": "markdown",
   "metadata": {},
   "source": [
    "ОЧИСТКА ДАННЫХ"
   ]
  },
  {
   "cell_type": "code",
   "execution_count": 65,
   "metadata": {},
   "outputs": [
    {
     "name": "stdout",
     "output_type": "stream",
     "text": [
      "кол-во названий: 1492\n",
      "кол-во адресов: 1493\n"
     ]
    }
   ],
   "source": [
    "# Количество названий отелей\n",
    "print('кол-во названий:', data['hotel_name'].value_counts().to_frame().shape[0])\n",
    "\n",
    "# Возможно, некоторые отели могут иметь одинаковые названия. Проверим это через количество адресов\n",
    "print('кол-во адресов:', data['hotel_address'].value_counts().to_frame().shape[0])\n",
    "\n",
    "# Два отеля имеют одинаковое название \n",
    "# Применим порядковое кодирование для адресов\n",
    "ord_encoder = ce.OrdinalEncoder()\n",
    "data['hotel_id']= ord_encoder.fit_transform(data[['hotel_address']])\n",
    "\n",
    "# Имея уникальный идентификатор отеля, удалим названия\n",
    "data=data.drop(columns='hotel_name')"
   ]
  },
  {
   "attachments": {},
   "cell_type": "markdown",
   "metadata": {},
   "source": [
    "НОВЫЕ ПРИЗНАКИ"
   ]
  },
  {
   "attachments": {},
   "cell_type": "markdown",
   "metadata": {},
   "source": [
    "Даты"
   ]
  },
  {
   "cell_type": "code",
   "execution_count": 66,
   "metadata": {},
   "outputs": [],
   "source": [
    "# Добавим признак weekday\n",
    "data['weekday']=pd.to_datetime(data['review_date']).dt.weekday\n",
    "\n",
    "# Выделяем из признака days_since_review количество дней\n",
    "data['days_since_review']=data['days_since_review'].str.split().str[0].astype(int)\n",
    "\n",
    "# Из признака review_date выделяем отдельно год, месяц, число \n",
    "data['year_review']=data['review_date'].str.split('/').str[-1].astype(int)\n",
    "data['month_review']=data['review_date'].str.split('/').str[-3].astype(int)\n",
    "data['day_of_month_review']=data['review_date'].str.split('/').str[-2].astype(int)\n",
    "\n",
    "# Удаляем признак review_date, ставший ненужным\n",
    "data=data.drop(columns='review_date')"
   ]
  },
  {
   "attachments": {},
   "cell_type": "markdown",
   "metadata": {},
   "source": [
    "Количество отзывов"
   ]
  },
  {
   "cell_type": "code",
   "execution_count": 67,
   "metadata": {},
   "outputs": [],
   "source": [
    "# Для каждого отеля добавим количество отзывов\n",
    "\n",
    "df11=data[['hotel_id','reviewer_score']].groupby(['hotel_id'],as_index=False)['reviewer_score'].count().rename(columns={'reviewer_score':'reviewer_score_count'})\n",
    "data=data.merge(df11, how ='left', on ='hotel_id')"
   ]
  },
  {
   "attachments": {},
   "cell_type": "markdown",
   "metadata": {},
   "source": [
    "Страны"
   ]
  },
  {
   "cell_type": "code",
   "execution_count": 68,
   "metadata": {},
   "outputs": [],
   "source": [
    "# выделим страну отеля\n",
    "data['hotel_address'].str.split().str[-2:].value_counts() # выделяем страну, убеждаемся, что kingdom только одно\n",
    "\n",
    "#добавляем признак country \n",
    "data['hotel_country']=data['hotel_address'].str.split().str[-1]\n",
    "data['hotel_country']=data['hotel_country'].replace('Kingdom','United Kingdom')\n",
    "\n",
    "# признак совпадения страны посетителя и страны отеля\n",
    "data['country_is_nationality']=data['hotel_country'].str.strip().str.lower()==data['reviewer_nationality'].str.strip().str.lower()\n",
    "data['country_is_nationality']=data['country_is_nationality'].replace({False:0,True:1})\n",
    "\n",
    "# кодируем страны отеля\n",
    "country_dic1={'United Kingdom':1, 'Spain':2, 'France':3, 'Netherlands':4, 'Austria':5, 'Italy':6}\n",
    "data['hotel_country']=data['hotel_country'].map(country_dic1)\n",
    "\n",
    "# закодируем страны посетителей\n",
    "# т.к. страны отеля закодированы по порядку, и есть признак совпадения страны отеля и посетителя, \n",
    "# попробуем применить иной способ кодирования - частота упоминания\n",
    "country_dic2=data['reviewer_nationality'].value_counts(normalize=True).to_dict()\n",
    "data['reviewer_nationality']=data['reviewer_nationality'].replace(country_dic2)"
   ]
  },
  {
   "attachments": {},
   "cell_type": "markdown",
   "metadata": {},
   "source": [
    "Теги"
   ]
  },
  {
   "cell_type": "code",
   "execution_count": 69,
   "metadata": {},
   "outputs": [
    {
     "name": "stdout",
     "output_type": "stream",
     "text": [
      "теги до преобразования: [' Leisure trip ', ' Couple ', ' Double Room ', ' Stayed 2 nights ']\n",
      "теги после преобразования: Leisure trip, Couple, Double Room, Stayed 2 nights\n"
     ]
    }
   ],
   "source": [
    "# Удалим из тегов лишние знаки\n",
    "print('теги до преобразования:',data['tags'].loc[0])\n",
    "data['tags']=data['tags'].str.replace('[', '').str.replace(']','').str.replace(\"' \",'').str.replace(\" '\",'')\n",
    "print('теги после преобразования:',data['tags'].loc[0])"
   ]
  },
  {
   "cell_type": "code",
   "execution_count": 70,
   "metadata": {},
   "outputs": [
    {
     "name": "stdout",
     "output_type": "stream",
     "text": [
      "количество уникальных тегов: 2428\n"
     ]
    }
   ],
   "source": [
    "# Для удобства создадим таблицу встречающихся тегов, в которой столбцами являются порядковые номера тегов в исходном data['tags']\n",
    "tags_df=data['tags'].str.split(', ', expand=True)\n",
    "\n",
    "# И еще одну таблицу всех тегов, записанных в один столбец (немного топорным методом)\n",
    "tags_df_all=pd.concat([tags_df[0],tags_df[1],tags_df[2],tags_df[3],tags_df[4],tags_df[5]], ignore_index=False).to_frame()\n",
    "\n",
    "# количество уникальных тегов\n",
    "print('количество уникальных тегов:',tags_df_all.value_counts().to_frame().shape[0])"
   ]
  },
  {
   "cell_type": "code",
   "execution_count": 71,
   "metadata": {},
   "outputs": [],
   "source": [
    "# Выделим признак night_count - количество ночей, проведенных в отеле\n",
    "df_nights=tags_df_all[tags_df_all[0].str.contains('Stayed').fillna(False)] # игнорируя None, выделяем тег, содержащий 'Stayed'\n",
    "df_nights['night_count']=df_nights[0].str.split().str[1].astype(int) # из выделенного тега извлекаем количество ночей\n",
    "data=data.join(df_nights['night_count']) #присоединяем night_count к исходной таблице\n",
    "\n",
    "data['night_count'].isnull().value_counts() # пропуски в новом признаке присутствуют\n",
    "data['night_count'] = data['night_count'].fillna(data['night_count'].mode()[0]) # заполним пропуски модой"
   ]
  },
  {
   "cell_type": "code",
   "execution_count": 72,
   "metadata": {},
   "outputs": [],
   "source": [
    "# Выделим признаки, характеризующие тип поездки (Business или Leisure) по аналогии с признаком night_count\n",
    "\n",
    "df_trip=tags_df_all[tags_df_all[0].str.contains('trip').fillna(False)]\n",
    "df_trip=pd.get_dummies(data=df_trip, prefix='is')\n",
    "data=data.join(df_trip) #присоединяем новые признаки к исходной таблице\n",
    "\n",
    "data['is_Business trip'].isnull().value_counts() \n",
    "data['is_Leisure trip'].isnull().value_counts() # пропуски в новых признаках присутствуют\n",
    "\n",
    "data[['is_Business trip','is_Leisure trip']] = data[['is_Business trip','is_Leisure trip']].fillna(0) # здесь заполним пропуски нулям"
   ]
  },
  {
   "cell_type": "code",
   "execution_count": 73,
   "metadata": {},
   "outputs": [],
   "source": [
    "# выделим остальные достаточно популярные группы тегов в отдельные признаки\n",
    "data['is_Couple']=data['tags'].str.contains('Couple').apply(lambda x: 1 if x == True else 0)\n",
    "data['is_Group']=data['tags'].str.contains('Group').apply(lambda x: 1 if x == True else 0)\n",
    "data['is_Solo_traveler']=data['tags'].str.contains('Solo traveler').apply(lambda x: 1 if x == True else 0)\n",
    "data['is_Family_young_ch']=data['tags'].str.contains('Family with young children').apply(lambda x: 1 if x == True else 0)\n",
    "data['is_Family_old_ch']=data['tags'].str.contains('Family with older children').apply(lambda x: 1 if x == True else 0)\n",
    "data['Sub_from_mob']=data['tags'].str.contains('Submitted from a mobile device').apply(lambda x: 1 if x == True else 0)"
   ]
  },
  {
   "cell_type": "code",
   "execution_count": 74,
   "metadata": {},
   "outputs": [],
   "source": [
    "# здесь я сперва заменил теги частотой их упоминания, но это ничего толком не дало\n",
    "# решил не оставлять\n",
    "\n",
    "data=data.drop(columns=['tags'])"
   ]
  },
  {
   "attachments": {},
   "cell_type": "markdown",
   "metadata": {},
   "source": [
    "Отзывы"
   ]
  },
  {
   "cell_type": "code",
   "execution_count": 75,
   "metadata": {},
   "outputs": [],
   "source": [
    "# теперь ясно, что следовало использовать специальные инструменты NLP\n",
    "# ниже представлены результаты \"мучений\""
   ]
  },
  {
   "attachments": {},
   "cell_type": "markdown",
   "metadata": {},
   "source": [
    "очистка отзывов"
   ]
  },
  {
   "cell_type": "code",
   "execution_count": 76,
   "metadata": {},
   "outputs": [
    {
     "data": {
      "text/html": [
       "<div>\n",
       "<style scoped>\n",
       "    .dataframe tbody tr th:only-of-type {\n",
       "        vertical-align: middle;\n",
       "    }\n",
       "\n",
       "    .dataframe tbody tr th {\n",
       "        vertical-align: top;\n",
       "    }\n",
       "\n",
       "    .dataframe thead th {\n",
       "        text-align: right;\n",
       "    }\n",
       "</style>\n",
       "<table border=\"1\" class=\"dataframe\">\n",
       "  <thead>\n",
       "    <tr style=\"text-align: right;\">\n",
       "      <th></th>\n",
       "      <th>review_total_positive_word_counts_TRUE</th>\n",
       "      <th>review_total_positive_word_counts</th>\n",
       "      <th>positive_review</th>\n",
       "      <th>review_total_negative_word_counts_TRUE</th>\n",
       "      <th>review_total_negative_word_counts</th>\n",
       "      <th>negative_review</th>\n",
       "    </tr>\n",
       "  </thead>\n",
       "  <tbody>\n",
       "    <tr>\n",
       "      <th>0</th>\n",
       "      <td>60</td>\n",
       "      <td>62</td>\n",
       "      <td>Hotel was great clean friendly staff free bre...</td>\n",
       "      <td>50</td>\n",
       "      <td>52</td>\n",
       "      <td>Would have appreciated a shop in the hotel th...</td>\n",
       "    </tr>\n",
       "    <tr>\n",
       "      <th>1</th>\n",
       "      <td>2</td>\n",
       "      <td>0</td>\n",
       "      <td>No Positive</td>\n",
       "      <td>9</td>\n",
       "      <td>10</td>\n",
       "      <td>No tissue paper box was present at the room</td>\n",
       "    </tr>\n",
       "    <tr>\n",
       "      <th>2</th>\n",
       "      <td>4</td>\n",
       "      <td>5</td>\n",
       "      <td>Nice welcoming and service</td>\n",
       "      <td>1</td>\n",
       "      <td>3</td>\n",
       "      <td>Pillows</td>\n",
       "    </tr>\n",
       "  </tbody>\n",
       "</table>\n",
       "</div>"
      ],
      "text/plain": [
       "   review_total_positive_word_counts_TRUE  review_total_positive_word_counts  \\\n",
       "0                                      60                                 62   \n",
       "1                                       2                                  0   \n",
       "2                                       4                                  5   \n",
       "\n",
       "                                     positive_review  \\\n",
       "0   Hotel was great clean friendly staff free bre...   \n",
       "1                                        No Positive   \n",
       "2                         Nice welcoming and service   \n",
       "\n",
       "   review_total_negative_word_counts_TRUE  review_total_negative_word_counts  \\\n",
       "0                                      50                                 52   \n",
       "1                                       9                                 10   \n",
       "2                                       1                                  3   \n",
       "\n",
       "                                     negative_review  \n",
       "0   Would have appreciated a shop in the hotel th...  \n",
       "1        No tissue paper box was present at the room  \n",
       "2                                           Pillows   "
      ]
     },
     "execution_count": 76,
     "metadata": {},
     "output_type": "execute_result"
    }
   ],
   "source": [
    "# заметим, что количеству слов в отзыве не соответсвует признак 'review_total_xxxxxx_word_counts'\n",
    "# исправим \n",
    "\n",
    "data['review_total_positive_word_counts_TRUE']=data['positive_review'].str.strip().str.split(' ').str.len()\n",
    "data['review_total_negative_word_counts_TRUE']=data['negative_review'].str.strip().str.split(' ').str.len()\n",
    "data[['review_total_positive_word_counts_TRUE','review_total_positive_word_counts','positive_review',\n",
    "      'review_total_negative_word_counts_TRUE','review_total_negative_word_counts','negative_review']].head(3)"
   ]
  },
  {
   "cell_type": "code",
   "execution_count": 77,
   "metadata": {},
   "outputs": [],
   "source": [
    "data=data.drop(columns=['review_total_positive_word_counts','review_total_negative_word_counts'])"
   ]
  },
  {
   "cell_type": "code",
   "execution_count": 78,
   "metadata": {},
   "outputs": [],
   "source": [
    "# Отзывы могут содержать в некотором смысле противоречивую информацию\n",
    "# Например, negative_review содержит такие словосочетания как: No Negative, Everything was perfect и т.д.\n",
    "\n",
    "# список \"позитива\" в негативном отзыве \n",
    "pos_in_neg_list=['nothing','no negative','nothing','n a',\n",
    "        'none','na','everything was great',\n",
    "        'all good','Everything was perfect',\n",
    "        'nothing to dislike','nothing to complain about','no','no complaints',\n",
    "        'nothing really','nothing at all','everything was good','nothing all good',\n",
    "        'nothing not to like','liked everything','nothing comes to mind',\n",
    "        'there was nothing i didn t like','all was good','everything was fine','non',\n",
    "        'nothing it was perfect','nothing everything was perfect',\n",
    "        'absolutely nothing','no negatives','it was all good','','nil','',\n",
    "        'everything was perfect','i liked everything']\n",
    "\n",
    "# список индексов столбца negative_review, которые содержат \"позитив\"\n",
    "corr_list1=data.index[data['negative_review'].str.strip().str.lower().isin(pos_in_neg_list)==True].to_list()\n",
    "len(corr_list1) # 119437\n",
    "\n",
    "# заменяем позитивные слова в негативном отзыве на NaN\n",
    "data['negative_review'].loc[corr_list1]=data['negative_review'].loc[corr_list1].apply(lambda x : np.NaN )\n",
    "\n",
    "# и количество слов в review_total_negative_word_counts_TRUE на ноль, ведь так оно и есть\n",
    "data['review_total_negative_word_counts_TRUE'].loc[corr_list1]=data['review_total_negative_word_counts_TRUE'].loc[corr_list1].apply(lambda x : 0 )"
   ]
  },
  {
   "cell_type": "code",
   "execution_count": 79,
   "metadata": {},
   "outputs": [],
   "source": [
    "# Выполняем ту же операцию с позитивным отзывом\n",
    "\n",
    "# список \"негатива\" в позитивном отзыве \n",
    "neg_in_pos_list=['nothing','no positive','nothing','n a',\n",
    "        'none','na','nothing really','nothing at all','nothing comes to mind',\n",
    "        'non','absolutely nothing','no positive','','nil','']\n",
    "\n",
    "# индексы\n",
    "corr_list2=data.index[data['positive_review'].str.strip().str.lower().isin(neg_in_pos_list)==True].to_list()\n",
    "len(corr_list2) # 28486\n",
    "\n",
    "# заменяем позитивные слова на NaN\n",
    "data['positive_review'].loc[corr_list2]=data['positive_review'].loc[corr_list2].apply(lambda x : np.NaN )\n",
    "\n",
    "# и количество слов в review_total_positive_word_counts_TRUE на ноль\n",
    "data['review_total_positive_word_counts_TRUE'].loc[corr_list2]=data['review_total_positive_word_counts_TRUE'].loc[corr_list2].apply(lambda x : 0 )"
   ]
  },
  {
   "cell_type": "code",
   "execution_count": 80,
   "metadata": {},
   "outputs": [],
   "source": [
    "data['count_words_diff']=data['review_total_positive_word_counts_TRUE']-data['review_total_negative_word_counts_TRUE']"
   ]
  },
  {
   "attachments": {},
   "cell_type": "markdown",
   "metadata": {},
   "source": [
    "извлекаем из отзывов конкретику"
   ]
  },
  {
   "cell_type": "code",
   "execution_count": 81,
   "metadata": {},
   "outputs": [],
   "source": [
    "good_review_list=['location','everything','breakfast','staff','every thing','room','bed','price','leaving']\n",
    "\n",
    "good_location=data.index[data['positive_review'].str.strip().str.lower().str.contains('location',na=False,regex=False)].to_list()\n",
    "good_staff=data.index[data['positive_review'].str.strip().str.lower().str.contains('staff',na=False,regex=False)].to_list()\n",
    "good_room=data.index[data['positive_review'].str.strip().str.lower().str.contains('room',na=False,regex=False)].to_list()\n",
    "good_bed=data.index[data['positive_review'].str.strip().str.lower().str.contains('bed',na=False,regex=False)].to_list()\n",
    "good_breakfast=data.index[data['positive_review'].str.strip().str.lower().str.contains('breakfast',na=False,regex=False)].to_list()\n",
    "good_price=data.index[data['positive_review'].str.strip().str.lower().str.contains('price',na=False,regex=False)].to_list()\n",
    "good_leaving=data.index[data['positive_review'].str.strip().str.lower().str.contains('leaving',na=False,regex=False)].to_list()\n",
    "good_everything=data.index[data['positive_review'].str.strip().str.lower().str.contains('everything',na=False,regex=False)].to_list()\n",
    "\n",
    "data['pos_location']=0\n",
    "data['pos_location'].to_frame().loc[good_location]=1\n",
    "data['pos_staff']=0\n",
    "data['pos_staff'].to_frame().loc[good_staff]=1\n",
    "data['pos_room']=0\n",
    "data['pos_room'].to_frame().loc[good_room]=1\n",
    "data['pos_bed']=0\n",
    "data['pos_bed'].to_frame().loc[good_bed]=1\n",
    "data['pos_breakfast']=0\n",
    "data['pos_breakfast'].to_frame().loc[good_breakfast]=1\n",
    "data['pos_price']=0\n",
    "data['pos_price'].to_frame().loc[good_price]=1\n",
    "data['pos_leaving']=0\n",
    "data['pos_leaving'].to_frame().loc[good_leaving]=1\n",
    "data['pos_everything']=0\n",
    "data['pos_everything'].to_frame().loc[good_everything]=1"
   ]
  },
  {
   "cell_type": "code",
   "execution_count": 82,
   "metadata": {},
   "outputs": [],
   "source": [
    "bad_review_list=['location','everything','breakfast','staff','every thing','room','bed','price','leaving']\n",
    "\n",
    "bad_location=data.index[data['negative_review'].str.strip().str.lower().str.contains('location',na=False,regex=False)].to_list()\n",
    "bad_staff=data.index[data['negative_review'].str.strip().str.lower().str.contains('staff',na=False,regex=False)].to_list()\n",
    "bad_room=data.index[data['negative_review'].str.strip().str.lower().str.contains('room',na=False,regex=False)].to_list()\n",
    "bad_bed=data.index[data['negative_review'].str.strip().str.lower().str.contains('bed',na=False,regex=False)].to_list()\n",
    "bad_breakfast=data.index[data['negative_review'].str.strip().str.lower().str.contains('breakfast',na=False,regex=False)].to_list()\n",
    "bad_price=data.index[data['negative_review'].str.strip().str.lower().str.contains('price',na=False,regex=False)].to_list()\n",
    "bad_leaving=data.index[data['negative_review'].str.strip().str.lower().str.contains('leaving',na=False,regex=False)].to_list()\n",
    "\n",
    "data['neg_location']=0\n",
    "data['neg_location'].to_frame().loc[bad_location]=1\n",
    "data['neg_staff']=0\n",
    "data['neg_staff'].to_frame().loc[bad_staff]=1\n",
    "data['neg_room']=0\n",
    "data['neg_room'].to_frame().loc[bad_room]=1\n",
    "data['neg_bed']=0\n",
    "data['neg_bed'].to_frame().loc[bad_bed]=1\n",
    "data['neg_breakfast']=0\n",
    "data['neg_breakfast'].to_frame().loc[bad_breakfast]=1\n",
    "data['neg_price']=0\n",
    "data['neg_price'].to_frame().loc[bad_price]=1\n",
    "data['neg_leaving']=0\n",
    "data['neg_leaving'].to_frame().loc[bad_leaving]=1"
   ]
  },
  {
   "attachments": {},
   "cell_type": "markdown",
   "metadata": {},
   "source": [
    "извлекаем эмоциональную окраску"
   ]
  },
  {
   "cell_type": "code",
   "execution_count": 83,
   "metadata": {},
   "outputs": [],
   "source": [
    "data['pos_excellent']=data['positive_review'].str.lower().str.contains('excellent').apply(lambda x: 1 if x == True else 0)\n",
    "data['pos_great']=data['positive_review'].str.lower().str.contains('great').apply(lambda x: 1 if x == True else 0)\n",
    "data['pos_wonderful']=data['positive_review'].str.lower().str.contains('wonderful').apply(lambda x: 1 if x == True else 0)\n",
    "data['pos_amazing']=data['positive_review'].str.lower().str.contains('amazing').apply(lambda x: 1 if x == True else 0)\n",
    "\n",
    "data['good_sum']=data['pos_amazing']+data['pos_excellent']+data['pos_wonderful']+data['pos_great']\n",
    "\n",
    "data['neg_awful']=data['negative_review'].str.lower().str.contains('awful').apply(lambda x: 1 if x == True else 0)\n",
    "data['neg_terrible']=data['negative_review'].str.lower().str.contains('terrible').apply(lambda x: 1 if x == True else 0)\n",
    "data['neg_bad']=data['negative_review'].str.lower().str.contains('bad').apply(lambda x: 1 if x == True else 0)\n",
    "data['neg_horrible']=data['negative_review'].str.lower().str.contains('horrible').apply(lambda x: 1 if x == True else 0)\n",
    "\n",
    "data['bad_sum']=data['neg_awful']+data['neg_terrible']+data['neg_bad']+data['neg_horrible']"
   ]
  },
  {
   "cell_type": "code",
   "execution_count": 84,
   "metadata": {},
   "outputs": [],
   "source": [
    "# введем условный показатель эмоциональной окраски\n",
    "data['ratio_sum_emotion']=data['good_sum']/(data['bad_sum']+data['good_sum'])\n",
    "data['ratio_sum_emotion']=data['ratio_sum_emotion'].fillna(0) # \"нет времени объяснять, просто заполни пропуски нулями\"\n",
    "\n",
    "\n",
    "# ограничиваясь выполненными преобразованиями, удалим отзывы\n",
    "data=data.drop(columns=['positive_review','negative_review'])"
   ]
  },
  {
   "attachments": {},
   "cell_type": "markdown",
   "metadata": {},
   "source": [
    "ПРЕОБРАЗОВАНИЕ И ОТБОР ПРИЗНАКОВ"
   ]
  },
  {
   "cell_type": "code",
   "execution_count": 85,
   "metadata": {},
   "outputs": [],
   "source": [
    "# определение местоположения ничего существенного мне не смогло добавить\n",
    "data=data.drop(columns=['lat','lng','hotel_address'])\n"
   ]
  },
  {
   "cell_type": "code",
   "execution_count": 86,
   "metadata": {},
   "outputs": [],
   "source": [
    "# непрерывные признаки\n",
    "num_cols =['additional_number_of_scoring','total_number_of_reviews','total_number_of_reviews_reviewer_has_given','days_since_review',\n",
    "           'reviewer_score_count','night_count','review_total_positive_word_counts_TRUE','review_total_negative_word_counts_TRUE',\n",
    "           'count_words_diff']\n",
    "\n",
    "# категориальные признаки\n",
    "cat_cols = ['average_score','reviewer_nationality','hotel_id','weekday','year_review','month_review','day_of_month_review','hotel_country',\n",
    "            'bad_sum','ratio_sum_emotion']\n",
    "\n",
    "# бинарные признаки\n",
    "bi_cols=['country_is_nationality','is_Business trip', 'is_Leisure trip', 'is_Couple','is_Group','is_Solo_traveler','is_Family_young_ch',\n",
    "            'is_Family_old_ch','Sub_from_mob','pos_location','pos_staff','pos_room','pos_bed','pos_breakfast','pos_price','pos_leaving',\n",
    "            'pos_everything', 'neg_location','neg_staff','neg_room','neg_bed','neg_breakfast','neg_price','neg_leaving','pos_excellent',\n",
    "            'pos_great', 'pos_wonderful','pos_amazing','good_sum','neg_awful','neg_terrible','neg_bad','neg_horrible',]\n",
    "\n",
    "# строго говоря (наверное), признак ratio_sum_emotion не является таким категориальным, как его соседи по списку, т.к он образован из бинарных признаков"
   ]
  },
  {
   "cell_type": "code",
   "execution_count": 87,
   "metadata": {},
   "outputs": [],
   "source": [
    "# простые преобразования через mm_scaler и r_scaler ничего не дали, вероятно, нужны другие приемы\n",
    "# удаление малозначимых признаков ухудшает качество модели"
   ]
  },
  {
   "cell_type": "code",
   "execution_count": 88,
   "metadata": {},
   "outputs": [
    {
     "data": {
      "text/plain": [
       "<AxesSubplot:>"
      ]
     },
     "execution_count": 88,
     "metadata": {},
     "output_type": "execute_result"
    },
    {
     "data": {
      "image/png": "[encoded data removed]",
      "text/plain": [
       "<Figure size 504x216 with 2 Axes>"
      ]
     },
     "metadata": {
      "needs_background": "light"
     },
     "output_type": "display_data"
    }
   ],
   "source": [
    "plt.figure(figsize=(7, 3))\n",
    "sns.heatmap(data[num_cols].corr(), annot=True, cmap='vlag', mask=np.triu(data[num_cols].corr()))"
   ]
  },
  {
   "cell_type": "code",
   "execution_count": 89,
   "metadata": {},
   "outputs": [],
   "source": [
    "data=data.drop(columns=['reviewer_score_count','total_number_of_reviews'])"
   ]
  },
  {
   "cell_type": "code",
   "execution_count": 90,
   "metadata": {},
   "outputs": [
    {
     "data": {
      "text/plain": [
       "<AxesSubplot:>"
      ]
     },
     "execution_count": 90,
     "metadata": {},
     "output_type": "execute_result"
    },
    {
     "data": {
      "image/png": "[encoded data removed]",
      "text/plain": [
       "<Figure size 504x360 with 2 Axes>"
      ]
     },
     "metadata": {
      "needs_background": "light"
     },
     "output_type": "display_data"
    }
   ],
   "source": [
    "plt.figure(figsize=(7, 5))\n",
    "sns.heatmap(data[cat_cols].corr(method='spearman'), cmap='vlag',annot=True, mask=np.triu(data[cat_cols].corr()))"
   ]
  },
  {
   "cell_type": "code",
   "execution_count": 91,
   "metadata": {},
   "outputs": [],
   "source": [
    "# для бинарных признаков воспользуемся корреляцией Мэтьюса (где-то прочитал, что для бинарных Метьюс - самое то)\n",
    "from sklearn.metrics import matthews_corrcoef\n",
    "len(bi_cols) # 33\n",
    "\n",
    "# т.к. нет специальной функции (не нашел), будем выдумывать что-то свое\n",
    "\n",
    "# список кортежей всех возможных пар бинарных признаков\n",
    "res=[]\n",
    "n=len(bi_cols)\n",
    "for i in range(n):\n",
    "    for j in range(i+1,n):\n",
    "        res.append((bi_cols[i],bi_cols[j]))     \n",
    "len(res) # 528\n",
    "\n",
    "# словарь с парой признаков и коэффициентом корреляции\n",
    "dic_res={}\n",
    "for i in range(len(res)):\n",
    "    dic_res.update({res[i]:matthews_corrcoef(data[res[i][0]],data[res[i][1]])})\n",
    "    \n",
    "# для удобства создадим таблицу\n",
    "df_bicorr=pd.DataFrame({'couple':dic_res.keys(),'m_corr':dic_res.values()})\n",
    "# используя sort_values, можно убедиться, что пара с сильной корреляцией - (is_Business trip, is_Leisure trip)\n"
   ]
  },
  {
   "cell_type": "code",
   "execution_count": 92,
   "metadata": {},
   "outputs": [],
   "source": [
    "data=data.drop(columns=['is_Leisure trip'])"
   ]
  },
  {
   "attachments": {},
   "cell_type": "markdown",
   "metadata": {},
   "source": [
    "ОБУЧЕНИЕ МОДЕЛИ"
   ]
  },
  {
   "cell_type": "code",
   "execution_count": 106,
   "metadata": {},
   "outputs": [],
   "source": [
    "# Производим обратную замену\n",
    "\n",
    "train=data.query('sample==1')\n",
    "test=data.query('sample==0')\n",
    "\n",
    "X=train.drop(columns=['reviewer_score'])\n",
    "y=train['reviewer_score']"
   ]
  },
  {
   "cell_type": "code",
   "execution_count": 104,
   "metadata": {},
   "outputs": [],
   "source": [
    "# Загружаем специальный инструмент для разбивки:  \n",
    "from sklearn.model_selection import train_test_split  "
   ]
  },
  {
   "cell_type": "code",
   "execution_count": 108,
   "metadata": {},
   "outputs": [],
   "source": [
    "# выделим 20% данных на валидацию\n",
    "X_train, X_test, y_train, y_test = train_test_split(X, y, test_size=0.2, random_state=42)"
   ]
  },
  {
   "cell_type": "code",
   "execution_count": 109,
   "metadata": {},
   "outputs": [],
   "source": [
    "# Импортируем необходимые библиотеки:  \n",
    "from sklearn.ensemble import RandomForestRegressor # инструмент для создания и обучения модели  \n",
    "from sklearn import metrics # инструменты для оценки точности модели  \n",
    "  \n",
    "# Создаём модель  \n",
    "regr = RandomForestRegressor(n_estimators=100)  \n",
    "      \n",
    "# Обучаем модель на тестовом наборе данных  \n",
    "regr.fit(X_train, y_train)  \n",
    "      \n",
    "# Используем обученную модель для предсказания рейтинга отелей в тестовой выборке.  \n",
    "# Предсказанные значения записываем в переменную y_pred  \n",
    "y_pred = regr.predict(X_test)  \n"
   ]
  },
  {
   "cell_type": "code",
   "execution_count": 110,
   "metadata": {},
   "outputs": [
    {
     "name": "stdout",
     "output_type": "stream",
     "text": [
      "MAPE: 0.12607493329559213\n"
     ]
    }
   ],
   "source": [
    "# Сравниваем предсказанные значения (y_pred) с реальными (y_test), и смотрим насколько они отличаются  \n",
    "# Метрика называется Mean Absolute Percentage Error (MAPE) и показывает среднюю абсолютную процентную ошибку предсказанных значений от фактических.  \n",
    "print('MAPE:', metrics.mean_absolute_percentage_error(y_test, y_pred))"
   ]
  },
  {
   "cell_type": "code",
   "execution_count": 121,
   "metadata": {},
   "outputs": [],
   "source": [
    "submission=pd.read_csv('data/submission.csv')"
   ]
  },
  {
   "cell_type": "code",
   "execution_count": 122,
   "metadata": {},
   "outputs": [],
   "source": [
    "predict_submission = pd.Series(regr.predict(test.drop(['reviewer_score'], axis=1)))\n",
    "submission['reviewer_score']=predict_submission\n",
    "submission.to_csv('submission_fin.csv', index=False)"
   ]
  },
  {
   "cell_type": "code",
   "execution_count": 124,
   "metadata": {},
   "outputs": [],
   "source": [
    "!pip freeze > requirements.txt"
   ]
  }
 ],
 "metadata": {
  "kernelspec": {
   "display_name": "Python 3",
   "language": "python",
   "name": "python3"
  },
  "language_info": {
   "codemirror_mode": {
    "name": "ipython",
    "version": 3
   },
   "file_extension": ".py",
   "mimetype": "text/x-python",
   "name": "python",
   "nbconvert_exporter": "python",
   "pygments_lexer": "ipython3",
   "version": "3.9.10"
  },
  "vscode": {
   "interpreter": {
    "hash": "ad4100d2ec61d4a9ef0b7a9834d0f74d6c8beeab6b5aa105028a49d10d3b25c4"
   }
  }
 },
 "nbformat": 4,
 "nbformat_minor": 2
}
